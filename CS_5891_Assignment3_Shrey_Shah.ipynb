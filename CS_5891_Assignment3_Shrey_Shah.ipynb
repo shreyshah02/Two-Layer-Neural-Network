{
 "cells": [
  {
   "cell_type": "markdown",
   "metadata": {},
   "source": [
    "Importing the required libraries"
   ]
  },
  {
   "cell_type": "code",
   "execution_count": 1,
   "metadata": {},
   "outputs": [
    {
     "name": "stderr",
     "output_type": "stream",
     "text": [
      "Using TensorFlow backend.\n"
     ]
    }
   ],
   "source": [
    "import numpy as np\n",
    "import matplotlib.pyplot as plt\n",
    "from keras.datasets import mnist"
   ]
  },
  {
   "cell_type": "markdown",
   "metadata": {},
   "source": [
    "## Preprocessing\n",
    "Loading the MNIST dataset and performing the required preprocessing on the data. Reshaping the training data and testing data such that all the images are flattened into column and each column of the dataset X represents one training example. Additionally, normalizing the training and testing data by dividing each pixel value in the dataset by 255.  Reshaping the training and testing label to a row vector. The last digit of my student ID = 0, thus modifying the labels of the training and testing data to contain value 1 for an image containing the number 0 and a value of 0 otherwise. Additionally, printing the shapes of the training and testing data and labels to confirm correct preprocessing."
   ]
  },
  {
   "cell_type": "code",
   "execution_count": 2,
   "metadata": {},
   "outputs": [
    {
     "name": "stdout",
     "output_type": "stream",
     "text": [
      "The training set contains:  60000\n",
      "test set:  10000\n",
      "Shape of the training data (60000, 28, 28)\n",
      "shape of training label (60000,)\n",
      "(784, 60000)\n",
      "(784, 10000)\n",
      "(1, 60000)\n",
      "(1, 10000)\n"
     ]
    }
   ],
   "source": [
    "(x_train, y_train), (x_test, y_test) = mnist.load_data()\n",
    "print('The training set contains: ', len(x_train))\n",
    "print('test set: ', len(x_test))\n",
    "print('Shape of the training data',x_train.shape)\n",
    "print('shape of training label',y_train.shape)\n",
    "# Performing the preprocessing steps on the data set\n",
    "# Reshaping the training and test set such that each column represents an image\n",
    "# Reshaping the training and test labels into row vectors\n",
    "x_train = np.reshape(x_train, (60000, -1))\n",
    "x_train = x_train.T\n",
    "y_train = np.reshape(y_train, (1, -1))\n",
    "x_test = np.reshape(x_test, (10000, -1))\n",
    "x_test = x_test.T\n",
    "y_test = np.reshape(y_test, (1, -1))\n",
    "# Normalizing the data in training and test sets\n",
    "x_train = x_train/255\n",
    "x_test = x_test/255\n",
    "# Updating the labels in the training and test set\n",
    "# Last digit of my student id = 0\n",
    "# Thus, the label of an image of number 0 should be 1 and 0 otherwise\n",
    "# This is achieved by creating masks for the training and testing labels such that the masks have True for indices\n",
    "# which correspond to an image of number 0\n",
    "id_mask_train = y_train == 0\n",
    "id_mask_test = y_test == 0\n",
    "y_train[id_mask_train] = 1\n",
    "y_train[np.logical_not(id_mask_train)] = 0\n",
    "y_test[id_mask_test] = 1\n",
    "y_test[np.logical_not(id_mask_test)] = 0\n",
    "# Checking the shape of the training and test sets\n",
    "print(x_train.shape)\n",
    "print(x_test.shape)\n",
    "print(y_train.shape)\n",
    "print(y_test.shape)"
   ]
  },
  {
   "cell_type": "markdown",
   "metadata": {},
   "source": [
    "## Activation Functions and their Gradients\n",
    "Functions for implementing the sigmoid activation, tanh activation and ReLU activation functions. The function act_gradient computes and returns the gradeint of the activation function (provided as parameter). "
   ]
  },
  {
   "cell_type": "code",
   "execution_count": 3,
   "metadata": {},
   "outputs": [],
   "source": [
    "def act_sigmoid(z):\n",
    "    A = 1/(1+np.exp(-z))\n",
    "    return A\n",
    "\n",
    "\n",
    "def act_tanh(z):\n",
    "    A = np.tanh(z)\n",
    "    return A\n",
    "\n",
    "\n",
    "def act_relu(z):\n",
    "    A = np.maximum(0, z)\n",
    "    return A\n",
    "\n",
    "\n",
    "def act_gradient(A, act = 'ReLU'):\n",
    "    dg = np.zeros_like(A)\n",
    "    if act == 'ReLU':\n",
    "        dg[A>0] = 1\n",
    "    elif act == 'sigmoid':\n",
    "        dg = A*(1 - A)\n",
    "    elif act == 'tanh':\n",
    "        dg = 1 - np.square(A)\n",
    "    \n",
    "    return dg"
   ]
  },
  {
   "cell_type": "markdown",
   "metadata": {},
   "source": [
    "## Neural Network Class\n",
    "Class for creating and training the neural network with 1 hidden layer to solve the Binary Classification problem on the MNIST dataset. The constructor method (_init_) loads the training and the test dataset, splits the training set into training (48000) + validation set(12000). The validation set is later used to tune the hyperparameters like the learning rate, the number of neurons in the hidden layer, the activation function for the hidden layer etc. It also initializes the weights and biases for the two layers small random values of the required dimensions using the numpy method random.random(). The random values (between 0 and 1) are multiplied by 0.01 to make them small. The number of neurons and the activation function for the hidden layer of the network is also loaded in the constructor method.\n",
    "\n"
   ]
  },
  {
   "cell_type": "markdown",
   "metadata": {},
   "source": [
    "### Forward Propagation\n",
    "The method forwardProp() performs the forward propagation through one layer of the neural network. The parameters provided to the method are : the weights and the biases associated with the layer, input to the layer and the activation function of the layer. It returns the output form the layer. \n",
    "\n",
    "### Gradient Descent\n",
    "The method GradDescent() implements the gradient descent algorithm for learning the weights and the biases for the layers of the Neural Network. After testing various values for epochs using the validation set, I decided with 1000 iterations for the gradient descent. While increasing the number of epochs decreased the training error (not by much, though), it resulted in an increased value of the validation error.\n",
    "The method takes as input the learning rate and a boolean value for plotting the learning curve, and returns the learned values of the weights and biases for all layers.\n",
    "\n",
    "### Train Model\n",
    "The method train_model() performs the gradeint descent algorithm for the training dataset, performs the forward propagation with the learned parameters to generate the predicted values for training set and computes the cost and accuracy achieved by the trained model on the training data. If multiple learning rates are provided to the object, then train_model() performs training with each learning rate, computes the cost of the learned model on the validation set and selects the value of alpha which performs best on the validation set for the final training of the model. The accuracy is computed by rounding the predicted values upto 1 decimal place. Thus, only predicted values greater than 0.9 are rounded to 1 and less than 0.1 are rounded to 0, thus giving much better assessment of the model than just using the np.around() method. These rounded prediction values are compared with ground truth values to comput the accuracy on the training data.\n",
    "\n",
    "### Test Model\n",
    "The method test_model assess the trained model on the test data set. It performs the forward propagation with the learned parameters to generate the predicted values for the test set and computes the cost and accuracy achieved by the trained model on the test dataset. The accuracy is computed by rounding the predicted values upto 1 decimal place. Thus, only predicted values greater than 0.9 are rounded to 1 and less than 0.1 are rounded to 0, thus giving much better assessment of the model than just using the np.around() method. These rounded prediction values are compared with ground truth values to comput the accuracy on the test data.\n",
    "\n",
    "### Test Image\n",
    "The method test_image() assess the trained model on a single test image with index of the image in the test dataset provided as parameter. The function displays the ground truth value and the actual value predicted by the model.\n"
   ]
  },
  {
   "cell_type": "code",
   "execution_count": 4,
   "metadata": {},
   "outputs": [],
   "source": [
    "class NeuralNetwork:\n",
    "    def __init__(self, x_train, y_train, x_test, y_test, alpha, neurons = 5, activation = 'ReLU'):\n",
    "        self.x_train = x_train[:, :48000]\n",
    "        self.y_train = y_train[:, :48000]\n",
    "        self.x_test = x_test\n",
    "        self.y_test = y_test\n",
    "        self.alpha = alpha\n",
    "        self.x_val = x_train[:, 48000:]\n",
    "        self.y_val = y_train[:, 48000:]\n",
    "        self.m = self.x_train.shape[1]\n",
    "        self.neurons = neurons\n",
    "        self.activation = activation\n",
    "        \n",
    "        # Initializing the weights and biases using np.random.random() and multiplying them by 0.01 to initialize small values.\n",
    "        self.w1 = np.random.random((self.neurons, x_train.shape[0])) * 0.01\n",
    "        self.b1 = np.random.random((self.neurons, 1)) * 0.01\n",
    "        self.w2 = np.random.random((1, self.neurons)) * 0.01\n",
    "        self.b2 = np.random.random() * 0.01\n",
    "        \n",
    "        \n",
    "    def forwardProp(self, w, x, b, act = 'ReLU'):\n",
    "        # performs the forward propagation through one layer of the neural network\n",
    "        Z = np.dot(w, x) + b\n",
    "        if act == 'ReLU':\n",
    "            A = act_relu(Z)\n",
    "        elif act == 'tanh':\n",
    "            A = act_tanh(Z)\n",
    "        elif act == 'sigmoid':\n",
    "            A = act_sigmoid(Z)\n",
    "        return Z, A\n",
    "    \n",
    "    def GradDescent(self, a, pl = False):\n",
    "        w1 = np.copy(self.w1)\n",
    "        w2 = np.copy(self.w2)\n",
    "        b1 = np.copy(self.b1)\n",
    "        b2 = np.copy(self.b2)\n",
    "\n",
    "        for i in range(1000):\n",
    "\n",
    "            Z1, A1 = self.forwardProp(w1, self.x_train, b1, self.activation)\n",
    "            Z2, A2 = self.forwardProp(w2, A1, b2, 'sigmoid')\n",
    "            cost = - np.sum(self.y_train*np.log(A2) + (1 - self.y_train)*np.log(1 - A2))/self.m\n",
    "            dZ2 = A2 - self.y_train\n",
    "            dw2 = np.dot(dZ2, A1.T)/self.m\n",
    "            db2 = np.sum(dZ2)/self.m\n",
    "\n",
    "            dZ1 = np.dot(w2.T, dZ2)*act_gradient(A1, self.activation)\n",
    "            dw1 = np.dot(dZ1, self.x_train.T)/self.m\n",
    "            db1 = np.sum(dZ1)/self.m\n",
    "            if pl:\n",
    "                plt.plot(i, cost, 'bo')\n",
    "                plt.title('Learning Curve')\n",
    "                plt.xlabel('Iterations')\n",
    "                plt.ylabel('Cost')\n",
    "            w1 -= a*dw1\n",
    "            w2 -= a*dw2\n",
    "            b1 -= a*db1\n",
    "            b2 -= a*db2\n",
    "        return w1, b1, w2, b2\n",
    "    \n",
    "    def train_model(self):\n",
    "        # Checking to see if a single value of alpha is provided or if multiple values are provided. \n",
    "        # If multiple values are provided then the best learning rate is selected by cross validation\n",
    "        if len(self.alpha)>1:\n",
    "            # To hold the cost of models learned by various alpha values\n",
    "            cost_val = []\n",
    "            # To hold weights and biases for different learning rates\n",
    "            parameters = []\n",
    "            print('Performing Validation to tune Hyper-parameters')\n",
    "            # Looping over all the learning rates to determine the best one\n",
    "            for a in self.alpha:\n",
    "                # Performing gradient descent to update the weights and bias of the model. \n",
    "                w1, b1, w2, b2 = self.GradDescent(a)\n",
    "                # Performing forward propagation\n",
    "                Z1_t, A1_t = self.forwardProp(w1, self.x_train, b1, self.activation)\n",
    "                Z2_t, A2_t = self.forwardProp(w2, A1_t, b2, 'sigmoid')\n",
    "                \n",
    "                # Computing the vectorized cost function\n",
    "                cost = - np.sum(self.y_train*np.log(A2_t) + (1 - self.y_train)*np.log(1 - A2_t))/self.m\n",
    "                print('For alpha = ', a, 'cost on training = ', cost)\n",
    "                \n",
    "                # Forward propagation for validation dataset\n",
    "                Z1_v, A1_v = self.forwardProp(w1, self.x_val, b1, self.activation)\n",
    "                Z2_v, A2_v = self.forwardProp(w2, A1_v, b2, 'sigmoid')\n",
    "                # Computing cost over the validation set\n",
    "                cost_v = - np.sum(self.y_val*np.log(A2_v) + (1 - self.y_val)*np.log(1 - A2_v))/self.x_val.shape[1]\n",
    "                print('For alpha = ', a, 'cost on validation=', cost_v)\n",
    "                # Appending the cost to the list containing cost for different alpha values on the validation set\n",
    "                cost_val.append(cost_v)\n",
    "                # Appending the parameters for different alpha values\n",
    "                parameters.append((w1, b1, w2, b2))\n",
    "            # Selecting the alpha value with the minimum cost on the validation set\n",
    "            alpha = self.alpha[np.argmin(cost_val)]\n",
    "            print('Best value of alpha = ', alpha)\n",
    "            \n",
    "#             w1, b1, w2, b2 = parameters[np.argmin(cost_val)]            \n",
    "#             Z1_t, A1_t = self.forwardProp(w1, self.x_train, b1, self.activation)\n",
    "#             Z2_t, A2_t = self.forwardProp(w2, A1_t, b2, 'sigmoid')\n",
    "#             cost = - np.sum(self.y_train*np.log(A2_t) + (1 - self.y_train)*np.log(1 - A2_t))/self.m\n",
    "#             print('The training error = ', cost)\n",
    "            \n",
    "        else:\n",
    "            alpha = self.alpha[0]\n",
    "        print('Performing the final training')\n",
    "        # Training the model using best alpha value\n",
    "        fw1, fb1, fw2, fb2 = self.GradDescent(alpha, pl = True)\n",
    "        Z_train1, A_train1 = self.forwardProp(fw1, self.x_train, fb1, self.activation)\n",
    "        Z_train2, A_train2 = self.forwardProp(fw2, A_train1, fb2, 'sigmoid')\n",
    "        # Rounding the predicted value upto 1 decimal place\n",
    "        A_2t = np.around(A_train2, 1)\n",
    "        # Computing the accuracy over the training\n",
    "        accuracy = np.mean(A_2t == self.y_train)\n",
    "        print('Training accuracy = ', accuracy)\n",
    "        # Computing the training cost\n",
    "        cost_train = - np.sum(self.y_train * np.log(A_train2) + (1 - self.y_train)*np.log(1 - A_train2))/self.m\n",
    "        print('Final Training cost = ', cost_train)\n",
    "\n",
    "        # Saving the learned weights\n",
    "        self.w1 = fw1\n",
    "        self.b1 = fb1\n",
    "        self.w2 = fw2\n",
    "        self.b2 = fb2\n",
    "    \n",
    "    def test_model(self):\n",
    "        # Forward propagation on the test data\n",
    "        Z1_test, A1_test = self.forwardProp(self.w1, self.x_test, self.b1, self.activation)\n",
    "        Z2_test, A2_test = self.forwardProp(self.w2, A1_test, self.b2, 'sigmoid')\n",
    "        # Computing the cost on test set\n",
    "        cost_test = - np.sum(self.y_test*np.log(A2_test) + (1 - self.y_test)*np.log(1 - A2_test))/self.x_test.shape[1]\n",
    "        print('Testing Cost = ', cost_test)\n",
    "        # Computing the accuracy on test data\n",
    "        A2 = np.around(A2_test, 1)\n",
    "        accuracy = np.mean(A2 == self.y_test)\n",
    "        print('Test accuracy = ', accuracy)\n",
    "    \n",
    "    def test_image(self, i):\n",
    "        # Performing prediction on ith image in the test set\n",
    "        x = self.x_test[:, i]\n",
    "        # Reshaping to column vector\n",
    "        x = np.reshape(x, (-1, 1))\n",
    "        # getting the ground truth label\n",
    "        y = self.y_test[0, i]\n",
    "        # Forward propagation\n",
    "        Z1, A1 = self.forwardProp(self.w1, x, self.b1, self.activation)\n",
    "        Z2, A2 = self.forwardProp(self.w2, A1, self.b2, 'sigmoid')\n",
    "        # Print the results and displaying the image\n",
    "        print('Ground truth for test example {} = {}'.format(i, y))\n",
    "        print('Predicted Output for test example {} = {}'.format(i, A2))\n",
    "        plt.imshow(np.reshape(x, (28, 28)), 'gray')\n",
    "        plt.title('Test Example {}'.format(i))"
   ]
  },
  {
   "cell_type": "markdown",
   "metadata": {},
   "source": [
    "## Implementation\n",
    "Creating the object of the class Neural Network. \n",
    "After evaluating the model on the vallidation set with different values of the hyperparameters, I found the following values to give the best performance:\n",
    "learning rate - 1.1. After comparing with values including 2, 1.5, 1.2, 1.1, 1, 0.9, 0.5, 0.2, 0.1. \n",
    "Activation function for hidden layer - tanh. Compared with ReLU, tanh resulted in low cost values in most scenarios with validation set.\n",
    "Number of Neurons per hidden layer - 8. This number provided the best performance on the validation set\n",
    "\n",
    "The training cost achieved = 0.012081 (this can vary a little with each execution)\n",
    "The training accuracy achieved = 97.49375% (only predicted values greater than 0.9 are rounded to 1 and less than 0.1 are rounded to 0)\n",
    "The test cost achieved = 0.015566329\n",
    "The test accuracy achieved = 97.5%"
   ]
  },
  {
   "cell_type": "code",
   "execution_count": 10,
   "metadata": {},
   "outputs": [
    {
     "name": "stdout",
     "output_type": "stream",
     "text": [
      "Training Mode\n",
      "Performing the final training\n",
      "Training accuracy =  0.9746666666666667\n",
      "Final Training cost =  0.012304347485987674\n",
      "Testing Mode\n",
      "Testing Cost =  0.015875617596939905\n",
      "Test accuracy =  0.9751\n"
     ]
    },
    {
     "data": {
      "image/png": "[encoded data removed]",
      "text/plain": [
       "<Figure size 432x288 with 1 Axes>"
      ]
     },
     "metadata": {
      "needs_background": "light"
     },
     "output_type": "display_data"
    }
   ],
   "source": [
    "# alpha = [1.2, 1.1, 1, 0.5]\n",
    "# Setting the learning rate and the activation function for the hidden layer\n",
    "alpha = [1.1]\n",
    "activation = 'tanh'\n",
    "# neurons = [5, 6, 7, 8, 9, 10]\n",
    "# for i in neurons:\n",
    "#     print('No. of neurons = ', i)\n",
    "#     LR = LogisticRegression(x_train, y_train, x_test, y_test, alpha, neurons = i)\n",
    "#     print('Training Mode')\n",
    "#     LR.train_model()\n",
    "\n",
    "# Setting the number of neurons in the hidden layer \n",
    "neurons = 8\n",
    "# Creating instance of the neural network class\n",
    "LR = NeuralNetwork(x_train, y_train, x_test, y_test, alpha, neurons = neurons, activation = activation)\n",
    "print('Training Mode')\n",
    "LR.train_model()\n",
    "print('Testing Mode')\n",
    "LR.test_model()\n",
    "\n"
   ]
  },
  {
   "cell_type": "markdown",
   "metadata": {},
   "source": [
    "Testing the model on single test images"
   ]
  },
  {
   "cell_type": "code",
   "execution_count": 32,
   "metadata": {},
   "outputs": [
    {
     "name": "stdout",
     "output_type": "stream",
     "text": [
      "Ground truth for test example 78 = 0\n",
      "Predicted Output for test example 78 = [[1.59040588e-05]]\n"
     ]
    },
    {
     "data": {
      "image/png": "[encoded data removed]",
      "text/plain": [
       "<Figure size 432x288 with 1 Axes>"
      ]
     },
     "metadata": {
      "needs_background": "light"
     },
     "output_type": "display_data"
    }
   ],
   "source": [
    "LR.test_image(78)"
   ]
  },
  {
   "cell_type": "code",
   "execution_count": 33,
   "metadata": {},
   "outputs": [
    {
     "name": "stdout",
     "output_type": "stream",
     "text": [
      "Ground truth for test example 3 = 1\n",
      "Predicted Output for test example 3 = [[0.99033583]]\n"
     ]
    },
    {
     "data": {
      "image/png": "[encoded data removed]",
      "text/plain": [
       "<Figure size 432x288 with 1 Axes>"
      ]
     },
     "metadata": {
      "needs_background": "light"
     },
     "output_type": "display_data"
    }
   ],
   "source": [
    "LR.test_image(3)"
   ]
  },
  {
   "cell_type": "code",
   "execution_count": null,
   "metadata": {},
   "outputs": [],
   "source": []
  }
 ],
 "metadata": {
  "kernelspec": {
   "display_name": "cv",
   "language": "python",
   "name": "cv"
  },
  "language_info": {
   "codemirror_mode": {
    "name": "ipython",
    "version": 3
   },
   "file_extension": ".py",
   "mimetype": "text/x-python",
   "name": "python",
   "nbconvert_exporter": "python",
   "pygments_lexer": "ipython3",
   "version": "3.6.8"
  }
 },
 "nbformat": 4,
 "nbformat_minor": 2
}
